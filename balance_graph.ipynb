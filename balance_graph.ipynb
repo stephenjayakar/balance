{
 "cells": [
  {
   "cell_type": "code",
   "execution_count": null,
   "metadata": {},
   "outputs": [],
   "source": [
    "import json\n",
    "import pprint\n",
    "import datetime\n",
    "\n",
    "# define CLIENT_ID, SECRET, and ACCESS_TOKEN here!\n",
    "%run secrets.py\n",
    "NUM_DAYS=365"
   ]
  },
  {
   "cell_type": "code",
   "execution_count": null,
   "metadata": {},
   "outputs": [],
   "source": [
    "%run balance_tracker.py\n",
    "balance_tracker = BalanceTracker(CLIENT_ID, SECRET, ACCESS_TOKEN)"
   ]
  },
  {
   "cell_type": "code",
   "execution_count": null,
   "metadata": {},
   "outputs": [],
   "source": [
    "balance1 = balance_tracker.balances_over_days(NUM_DAYS, balance_tracker.account_id_from_offset(0))\n",
    "balance2 = balance_tracker.balances_over_days(NUM_DAYS, balance_tracker.account_id_from_offset(1))\n",
    "balance3 = balance_tracker.balances_over_days(NUM_DAYS, balance_tracker.account_id_from_offset(2))"
   ]
  },
  {
   "cell_type": "code",
   "execution_count": null,
   "metadata": {},
   "outputs": [],
   "source": [
    "import matplotlib.pyplot as plt\n",
    "plt.plot(list(reversed(range(len(balance1)))), balance1, 'r')\n",
    "plt.plot(list(reversed(range(len(balance2)))), balance2, 'g')\n",
    "plt.plot(list(reversed(range(len(balance3)))), balance3, 'b')\n",
    "plt.xlabel('Days ago')\n",
    "plt.ylabel('Money ($)')\n",
    "plt.gca().invert_xaxis()\n",
    "plt.show()"
   ]
  },
  {
   "cell_type": "code",
   "execution_count": null,
   "metadata": {},
   "outputs": [],
   "source": [
    "bank_account_balance = balance_tracker.current_balance(balance_tracker._max_account_id())\n",
    "s = SchwabTracker(balance_tracker.plaid_client, SCHWAB_ACCESS_TOKEN)\n",
    "schwab_balance = s.current_balance()\n",
    "\n",
    "from IPython.display import display, Markdown, Latex\n",
    "display(Markdown(f'# Your current net worth is ${(bank_account_balance + schwab_balance):,.2f}'))"
   ]
  }
 ],
 "metadata": {
  "kernelspec": {
   "display_name": "Python 3",
   "language": "python",
   "name": "python3"
  },
  "language_info": {
   "codemirror_mode": {
    "name": "ipython",
    "version": 3
   },
   "file_extension": ".py",
   "mimetype": "text/x-python",
   "name": "python",
   "nbconvert_exporter": "python",
   "pygments_lexer": "ipython3",
   "version": "3.8.5"
  }
 },
 "nbformat": 4,
 "nbformat_minor": 4
}
